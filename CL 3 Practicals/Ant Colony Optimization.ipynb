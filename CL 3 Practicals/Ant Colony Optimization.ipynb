{
 "cells": [
  {
   "cell_type": "code",
   "execution_count": 1,
   "metadata": {
    "id": "O3L3QFfW5n6C"
   },
   "outputs": [],
   "source": [
    "import random\n",
    "import math"
   ]
  },
  {
   "cell_type": "code",
   "execution_count": 2,
   "metadata": {
    "id": "zRnRcRPS6VrM"
   },
   "outputs": [],
   "source": [
    "# Define coordinates of cities (you can change or expand this)\n",
    "cities = {\n",
    "    0: (0, 0),\n",
    "    1: (1, 5),\n",
    "    2: (5, 2),\n",
    "    3: (6, 6),\n",
    "    4: (8, 3)\n",
    "}"
   ]
  },
  {
   "cell_type": "code",
   "execution_count": 3,
   "metadata": {
    "id": "O2jwRnUG6fSy"
   },
   "outputs": [],
   "source": [
    "num_ants = 10\n",
    "num_iterations = 100\n",
    "alpha = 1.0      # pheromone influence\n",
    "beta = 5.0       # distance influence\n",
    "evaporation = 0.5\n",
    "Q = 100"
   ]
  },
  {
   "cell_type": "code",
   "execution_count": 4,
   "metadata": {
    "id": "CL428CVj6hDg"
   },
   "outputs": [],
   "source": [
    "def distance(a, b):\n",
    "    return math.dist(cities[a], cities[b])\n",
    "\n",
    "distances = {\n",
    "    (i, j): distance(i, j) for i in cities for j in cities if i != j\n",
    "}\n",
    "\n",
    "# Initialize pheromones\n",
    "pheromones = {\n",
    "    (i, j): 1.0 for i in cities for j in cities if i != j\n",
    "}"
   ]
  },
  {
   "cell_type": "code",
   "execution_count": 5,
   "metadata": {
    "id": "oh1P5-PW6jCN"
   },
   "outputs": [],
   "source": [
    "def choose_next_city(ant, visited):\n",
    "    current = ant[-1]\n",
    "    probabilities = []\n",
    "    total = 0\n",
    "\n",
    "    for city in cities:\n",
    "        if city not in visited:\n",
    "            pher = pheromones[(current, city)] ** alpha\n",
    "            heuristic = (1 / distances[(current, city)]) ** beta\n",
    "            prob = pher * heuristic\n",
    "            probabilities.append((city, prob))\n",
    "            total += prob\n",
    "\n",
    "    r = random.uniform(0, total)\n",
    "    cumulative = 0\n",
    "    for city, prob in probabilities:\n",
    "        cumulative += prob\n",
    "        if r <= cumulative:\n",
    "            return city\n",
    "    return probabilities[-1][0]"
   ]
  },
  {
   "cell_type": "code",
   "execution_count": 6,
   "metadata": {
    "id": "EhiBbZ3b6lYR"
   },
   "outputs": [],
   "source": [
    "# Construct solution\n",
    "def construct_solution():\n",
    "    ant = [random.choice(list(cities.keys()))]\n",
    "    visited = set(ant)\n",
    "\n",
    "    while len(visited) < len(cities):\n",
    "        next_city = choose_next_city(ant, visited)\n",
    "        ant.append(next_city)\n",
    "        visited.add(next_city)\n",
    "\n",
    "    ant.append(ant[0])  # Return to start\n",
    "    return ant"
   ]
  },
  {
   "cell_type": "code",
   "execution_count": 7,
   "metadata": {
    "id": "kU_Iq2tG6n_3"
   },
   "outputs": [],
   "source": [
    "# Calculate total distance of a tour\n",
    "def tour_length(tour):\n",
    "    return sum(distances[(tour[i], tour[i+1])] for i in range(len(tour) - 1))"
   ]
  },
  {
   "cell_type": "code",
   "execution_count": 8,
   "metadata": {
    "id": "6JkUgk_F6pr4"
   },
   "outputs": [],
   "source": [
    "# ACO main loop\n",
    "best_tour = None\n",
    "best_length = float(\"inf\")\n",
    "\n",
    "for iteration in range(num_iterations):\n",
    "    all_tours = []\n",
    "    for _ in range(num_ants):\n",
    "        tour = construct_solution()\n",
    "        length = tour_length(tour)\n",
    "        all_tours.append((tour, length))\n",
    "        if length < best_length:\n",
    "            best_tour = tour\n",
    "            best_length = length\n",
    "\n",
    "    # Evaporate pheromones\n",
    "    for edge in pheromones:\n",
    "        pheromones[edge] *= (1 - evaporation)\n",
    "\n",
    "    # Update pheromones\n",
    "    for tour, length in all_tours:\n",
    "        for i in range(len(tour) - 1):\n",
    "            a, b = tour[i], tour[i+1]\n",
    "            pheromones[(a, b)] += Q / length\n",
    "            pheromones[(b, a)] += Q / length  # symmetric"
   ]
  },
  {
   "cell_type": "code",
   "execution_count": 9,
   "metadata": {
    "colab": {
     "base_uri": "https://localhost:8080/"
    },
    "id": "_tQJMkor6uoQ",
    "outputId": "665157af-fe9a-419c-f709-e80332aedeb2"
   },
   "outputs": [
    {
     "name": "stdout",
     "output_type": "stream",
     "text": [
      "\n",
      "Best Tour Found:\n",
      "0 -> 1 -> 3 -> 4 -> 2 -> 0\n",
      "Total Distance: 22.35\n"
     ]
    }
   ],
   "source": [
    "# Final result\n",
    "print(\"\\nBest Tour Found:\")\n",
    "print(\" -> \".join(str(city) for city in best_tour))\n",
    "print(f\"Total Distance: {best_length:.2f}\")"
   ]
  },
  {
   "cell_type": "code",
   "execution_count": 54,
   "metadata": {
    "id": "M9RJtdmC6zOF"
   },
   "outputs": [],
   "source": []
  }
 ],
 "metadata": {
  "colab": {
   "provenance": []
  },
  "kernelspec": {
   "display_name": "Python 3 (ipykernel)",
   "language": "python",
   "name": "python3"
  },
  "language_info": {
   "codemirror_mode": {
    "name": "ipython",
    "version": 3
   },
   "file_extension": ".py",
   "mimetype": "text/x-python",
   "name": "python",
   "nbconvert_exporter": "python",
   "pygments_lexer": "ipython3",
   "version": "3.12.0"
  }
 },
 "nbformat": 4,
 "nbformat_minor": 4
}
