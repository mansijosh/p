{
 "cells": [
  {
   "cell_type": "markdown",
   "metadata": {
    "id": "DDGxnjG05RWt"
   },
   "source": [
    "# Problem: Maximize number of 1s in a binary list of length 10"
   ]
  },
  {
   "cell_type": "code",
   "execution_count": 1,
   "metadata": {
    "id": "z4e5aUhI5J2A"
   },
   "outputs": [],
   "source": [
    "import random\n",
    "from deap import base, creator, tools, algorithms"
   ]
  },
  {
   "cell_type": "code",
   "execution_count": 2,
   "metadata": {
    "id": "ut423yWh5Omd"
   },
   "outputs": [],
   "source": [
    "# Step 1: Define the fitness and individual\n",
    "creator.create(\"FitnessMax\", base.Fitness, weights=(1.0,))  # Maximize\n",
    "creator.create(\"Individual\", list, fitness=creator.FitnessMax)"
   ]
  },
  {
   "cell_type": "code",
   "execution_count": 3,
   "metadata": {
    "id": "JwWWA0Q15Vvx"
   },
   "outputs": [],
   "source": [
    "toolbox = base.Toolbox()"
   ]
  },
  {
   "cell_type": "code",
   "execution_count": 4,
   "metadata": {
    "id": "7fv231qi5XYU"
   },
   "outputs": [],
   "source": [
    "# Step 2: Individual and population generation\n",
    "toolbox.register(\"attr_bool\", random.randint, 0, 1)  # genes: 0 or 1\n",
    "toolbox.register(\"individual\", tools.initRepeat, creator.Individual, toolbox.attr_bool, 10)\n",
    "toolbox.register(\"population\", tools.initRepeat, list, toolbox.individual)"
   ]
  },
  {
   "cell_type": "code",
   "execution_count": 5,
   "metadata": {
    "id": "Z8qDXWW05ZRm"
   },
   "outputs": [],
   "source": [
    "# Step 3: Define the fitness function\n",
    "def eval_fitness(individual):\n",
    "    return sum(individual),  # fitness is number of 1s"
   ]
  },
  {
   "cell_type": "code",
   "execution_count": 6,
   "metadata": {
    "id": "M7wJr3nK5bFA"
   },
   "outputs": [],
   "source": [
    "toolbox.register(\"evaluate\", eval_fitness)\n",
    "toolbox.register(\"mate\", tools.cxTwoPoint)\n",
    "toolbox.register(\"mutate\", tools.mutFlipBit, indpb=0.1)  # 10% mutation chance per gene\n",
    "toolbox.register(\"select\", tools.selTournament, tournsize=3)"
   ]
  },
  {
   "cell_type": "code",
   "execution_count": 7,
   "metadata": {
    "id": "-n72AzR35csS"
   },
   "outputs": [],
   "source": [
    "def run_ea():\n",
    "    pop = toolbox.population(n=20)\n",
    "    hof = tools.HallOfFame(1)  # best individual tracker\n",
    "    stats = tools.Statistics(lambda ind: ind.fitness.values)\n",
    "    stats.register(\"max\", max)\n",
    "\n",
    "    pop, log = algorithms.eaSimple(pop, toolbox, cxpb=0.5, mutpb=0.2, ngen=10,\n",
    "                                   stats=stats, halloffame=hof, verbose=True)\n",
    "\n",
    "    print(\"\\nBest individual:\", hof[0])\n",
    "    print(\"Fitness:\", hof[0].fitness.values[0])"
   ]
  },
  {
   "cell_type": "code",
   "execution_count": 8,
   "metadata": {
    "colab": {
     "base_uri": "https://localhost:8080/"
    },
    "id": "ITM-_hdW5e69",
    "outputId": "2c6bd84f-6b08-4a07-ce1d-2286edd86dab"
   },
   "outputs": [
    {
     "name": "stdout",
     "output_type": "stream",
     "text": [
      "gen\tnevals\tmax   \n",
      "0  \t20    \t(8.0,)\n",
      "1  \t15    \t(8.0,)\n",
      "2  \t16    \t(8.0,)\n",
      "3  \t14    \t(9.0,)\n",
      "4  \t11    \t(9.0,)\n",
      "5  \t12    \t(9.0,)\n",
      "6  \t16    \t(9.0,)\n",
      "7  \t13    \t(9.0,)\n",
      "8  \t15    \t(10.0,)\n",
      "9  \t18    \t(10.0,)\n",
      "10 \t9     \t(10.0,)\n",
      "\n",
      "Best individual: [1, 1, 1, 1, 1, 1, 1, 1, 1, 1]\n",
      "Fitness: 10.0\n"
     ]
    }
   ],
   "source": [
    "run_ea()"
   ]
  },
  {
   "cell_type": "code",
   "execution_count": null,
   "metadata": {
    "id": "O3L3QFfW5n6C"
   },
   "outputs": [],
   "source": []
  }
 ],
 "metadata": {
  "colab": {
   "provenance": []
  },
  "kernelspec": {
   "display_name": "Python 3 (ipykernel)",
   "language": "python",
   "name": "python3"
  },
  "language_info": {
   "codemirror_mode": {
    "name": "ipython",
    "version": 3
   },
   "file_extension": ".py",
   "mimetype": "text/x-python",
   "name": "python",
   "nbconvert_exporter": "python",
   "pygments_lexer": "ipython3",
   "version": "3.12.0"
  }
 },
 "nbformat": 4,
 "nbformat_minor": 4
}
