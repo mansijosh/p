{
 "cells": [
  {
   "cell_type": "code",
   "execution_count": 1,
   "id": "65fbb9d8-a439-4ef3-9de9-10ff7660b3ab",
   "metadata": {},
   "outputs": [],
   "source": [
    "import numpy as np"
   ]
  },
  {
   "cell_type": "code",
   "execution_count": 2,
   "id": "a97d2edd-4367-4d9b-b42f-e6dc10560d43",
   "metadata": {},
   "outputs": [],
   "source": [
    "def objective_function(x):\n",
    "    return x**2 - 4*x + 4"
   ]
  },
  {
   "cell_type": "code",
   "execution_count": 3,
   "id": "69554795-751d-4a08-94d6-07c323133007",
   "metadata": {},
   "outputs": [],
   "source": [
    "# Initialize population with random solutions\n",
    "def initialize_population(pop_size, lower_bound, upper_bound):\n",
    "    return np.random.uniform(lower_bound, upper_bound, pop_size)"
   ]
  },
  {
   "cell_type": "code",
   "execution_count": 4,
   "id": "10b928f5-2783-4bb9-b346-4f192c8d8770",
   "metadata": {},
   "outputs": [],
   "source": [
    "# Evaluate fitness for each individual\n",
    "def evaluate_population(population):\n",
    "    return np.array([objective_function(x) for x in population])"
   ]
  },
  {
   "cell_type": "code",
   "execution_count": 5,
   "id": "144e41e7-844a-4a52-a5b3-ee2122b4adcd",
   "metadata": {},
   "outputs": [],
   "source": [
    "# Select the best individuals (elitism)\n",
    "def select_best_individuals(population, fitness, num_selected):\n",
    "    sorted_indices = np.argsort(fitness)\n",
    "    return population[sorted_indices[:num_selected]]"
   ]
  },
  {
   "cell_type": "code",
   "execution_count": 6,
   "id": "190b28f1-6c54-4069-b1f3-2154f0430aef",
   "metadata": {},
   "outputs": [],
   "source": [
    "# Mutate the selected individuals\n",
    "def mutate(selected, mutation_rate, lower_bound, upper_bound):\n",
    "    return np.clip(selected + np.random.uniform(-mutation_rate, mutation_rate, selected.shape), lower_bound, upper_bound)"
   ]
  },
  {
   "cell_type": "code",
   "execution_count": 7,
   "id": "a9f43c30-1c5a-4ae1-a8e6-e0dc3c1fefcf",
   "metadata": {},
   "outputs": [],
   "source": [
    "def clonal_selection_algorithm(pop_size, lower_bound, upper_bound, generations, mutation_rate, num_selected):\n",
    "    # Initialize population\n",
    "    population = initialize_population(pop_size, lower_bound, upper_bound)\n",
    "    \n",
    "    # Run for a number of generations\n",
    "    for generation in range(generations):\n",
    "        # Evaluate fitness\n",
    "        fitness = evaluate_population(population)\n",
    "        \n",
    "        # Select the best solutions\n",
    "        selected = select_best_individuals(population, fitness, num_selected)\n",
    "        \n",
    "        # Mutate the selected individuals\n",
    "        mutated = mutate(selected, mutation_rate, lower_bound, upper_bound)\n",
    "        \n",
    "        # Replace the worst individuals with mutated ones\n",
    "        population[np.argsort(fitness)[:num_selected]] = mutated\n",
    "        \n",
    "        # Print the best solution in the current generation\n",
    "        best_solution = population[np.argmin(fitness)]\n",
    "        print(f\"Generation {generation+1}: Best Solution = {best_solution}, Fitness = {min(fitness)}\")\n",
    "    \n",
    "    # Return the best solution after all generations\n",
    "    return population[np.argmin(fitness)]\n"
   ]
  },
  {
   "cell_type": "code",
   "execution_count": 8,
   "id": "c1051a55-5190-4e31-8722-3c3e5b14348e",
   "metadata": {},
   "outputs": [],
   "source": [
    "# Parameters for the algorithm\n",
    "pop_size = 10          # Population size\n",
    "lower_bound = -10      # Lower bound for random solutions\n",
    "upper_bound = 10       # Upper bound for random solutions\n",
    "generations = 100       # Number of generations\n",
    "mutation_rate = 0.5    # Mutation rate\n",
    "num_selected = 5       # Number of best solutions to select"
   ]
  },
  {
   "cell_type": "code",
   "execution_count": 9,
   "id": "cb356985-36ec-485d-843d-eadb9f6c1bba",
   "metadata": {},
   "outputs": [
    {
     "name": "stdout",
     "output_type": "stream",
     "text": [
      "Generation 1: Best Solution = 3.1581692448781875, Fitness = 2.022924597543719\n",
      "Generation 2: Best Solution = 2.867880468593558, Fitness = 1.3413559997817117\n",
      "Generation 3: Best Solution = 2.3697276348905065, Fitness = 0.7532165077661741\n",
      "Generation 4: Best Solution = 2.6865613789751843, Fitness = 0.13669852400172733\n",
      "Generation 5: Best Solution = 3.1663738247715085, Fitness = 0.47136652710030624\n",
      "Generation 6: Best Solution = 3.2122359467216453, Fitness = 1.3604278991121177\n",
      "Generation 7: Best Solution = 3.4970554147429582, Fitness = 1.4695159905241244\n",
      "Generation 8: Best Solution = 3.9336989871013506, Fitness = 2.241174914811211\n",
      "Generation 9: Best Solution = 3.993725011922402, Fitness = 3.73919177271679\n",
      "Generation 10: Best Solution = 4.136737778563943, Fitness = 3.974939423164983\n",
      "Generation 11: Best Solution = 3.791794455322174, Fitness = 4.565648334342374\n",
      "Generation 12: Best Solution = 3.8567846699582, Fitness = 3.2105273701232857\n",
      "Generation 13: Best Solution = 4.198889915516366, Fitness = 3.447649310591782\n",
      "Generation 14: Best Solution = 3.884071931392201, Fitness = 4.835116860559573\n",
      "Generation 15: Best Solution = 3.947050528521287, Fitness = 3.5497270426599385\n",
      "Generation 16: Best Solution = 4.166877303194962, Fitness = 3.7910057606150236\n",
      "Generation 17: Best Solution = 4.389475461457818, Fitness = 4.6953572471014695\n",
      "Generation 18: Best Solution = 4.2420991185814465, Fitness = 5.709592980909051\n",
      "Generation 19: Best Solution = 4.55865691671548, Fitness = 5.027008457543701\n",
      "Generation 20: Best Solution = 4.751922982304599, Fitness = 6.546725217455965\n",
      "Generation 21: Best Solution = 4.570138138925028, Fitness = 7.573080100536238\n",
      "Generation 22: Best Solution = 4.78929164696175, Fitness = 6.605610053157005\n",
      "Generation 23: Best Solution = 4.381987663277278, Fitness = 7.780147891810593\n",
      "Generation 24: Best Solution = 4.595979161490411, Fitness = 5.673865228005148\n",
      "Generation 25: Best Solution = 4.931514917886356, Fitness = 6.739107806892459\n",
      "Generation 26: Best Solution = 4.533529818001172, Fitness = 8.593779713790251\n",
      "Generation 27: Best Solution = 4.943821391679264, Fitness = 6.418773338701055\n",
      "Generation 28: Best Solution = 5.287558965842608, Fitness = 8.666084386108437\n",
      "Generation 29: Best Solution = 4.903449570015978, Fitness = 10.80804395389212\n",
      "Generation 30: Best Solution = 5.325918831785749, Fitness = 8.430019405625966\n",
      "Generation 31: Best Solution = 5.10334963991958, Fitness = 11.061736075627085\n",
      "Generation 32: Best Solution = 4.624863876058074, Fitness = 9.630778987588986\n",
      "Generation 33: Best Solution = 4.212274033909177, Fitness = 6.889910367834613\n",
      "Generation 34: Best Solution = 4.324828304857169, Fitness = 4.894156401108781\n",
      "Generation 35: Best Solution = 4.748355657307311, Fitness = 5.404826647065057\n",
      "Generation 36: Best Solution = 4.631329976298609, Fitness = 7.553458819053102\n",
      "Generation 37: Best Solution = 4.673782759473159, Fitness = 6.92389744416764\n",
      "Generation 38: Best Solution = 5.024258535149386, Fitness = 7.149114244855902\n",
      "Generation 39: Best Solution = 4.597158975801891, Fitness = 9.146139687423908\n",
      "Generation 40: Best Solution = 4.744562240628088, Fitness = 6.745234745588327\n",
      "Generation 41: Best Solution = 5.1927784158003165, Fitness = 7.5326218926814725\n",
      "Generation 42: Best Solution = 5.073254680956615, Fitness = 10.19383401240038\n",
      "Generation 43: Best Solution = 5.408199505503102, Fitness = 9.444894334021747\n",
      "Generation 44: Best Solution = 5.54912641748361, Fitness = 11.61582386931159\n",
      "Generation 45: Best Solution = 5.675578593413007, Fitness = 12.596298327280042\n",
      "Generation 46: Best Solution = -1.5354561375564448, Fitness = 11.361299032227256\n",
      "Generation 47: Best Solution = 4.8253703132346875, Fitness = 10.153312350509644\n",
      "Generation 48: Best Solution = 4.951806326114975, Fitness = 7.982717406907877\n",
      "Generation 49: Best Solution = 4.845449320576269, Fitness = 8.71316058689239\n",
      "Generation 50: Best Solution = 5.166445737002714, Fitness = 8.09658183596795\n",
      "Generation 51: Best Solution = 5.016763530473135, Fitness = 10.026378605382664\n",
      "Generation 52: Best Solution = 5.018930766338276, Fitness = 9.100862198792733\n",
      "Generation 53: Best Solution = 5.1331805637318935, Fitness = 9.113942971943807\n",
      "Generation 54: Best Solution = 5.194144711938015, Fitness = 9.816820444947307\n",
      "Generation 55: Best Solution = 4.961190312145624, Fitness = 10.202560440801584\n",
      "Generation 56: Best Solution = 5.41100339143921, Fitness = 8.7686480647451\n",
      "Generation 57: Best Solution = 5.433550506255992, Fitness = 11.634944136409793\n",
      "Generation 58: Best Solution = 5.154454827251261, Fitness = 11.78926907901078\n",
      "Generation 59: Best Solution = 5.49185085795406, Fitness = 9.950585257168783\n",
      "Generation 60: Best Solution = -1.8004104858572143, Fitness = 12.14071090329434\n",
      "Generation 61: Best Solution = 5.137434146510021, Fitness = 9.733788161791068\n",
      "Generation 62: Best Solution = 4.786020815452233, Fitness = 9.843493023687063\n",
      "Generation 63: Best Solution = 4.303375917104152, Fitness = 7.761911984133121\n",
      "Generation 64: Best Solution = 3.876290028443621, Fitness = 5.305540615495392\n",
      "Generation 65: Best Solution = 3.6723152427037125, Fitness = 3.520464270836964\n",
      "Generation 66: Best Solution = 3.8222167988059477, Fitness = 2.7966382709791766\n",
      "Generation 67: Best Solution = 3.4563984254317655, Fitness = 3.320474061850595\n",
      "Generation 68: Best Solution = 3.7284565293793044, Fitness = 2.1210963736001265\n",
      "Generation 69: Best Solution = 4.188770907900099, Fitness = 2.98756197395395\n",
      "Generation 70: Best Solution = 0.4303816065097563, Fitness = 3.7647253426365497\n",
      "Generation 71: Best Solution = 0.4828880294530109, Fitness = 2.4637019011828936\n",
      "Generation 72: Best Solution = 0.282585936569122, Fitness = 2.3016287311769683\n",
      "Generation 73: Best Solution = 0.40012159361978317, Fitness = 2.9495110652701597\n",
      "Generation 74: Best Solution = 0.8623096517655857, Fitness = 2.559610915201702\n",
      "Generation 75: Best Solution = 0.9123168756110989, Fitness = 1.294339328465743\n",
      "Generation 76: Best Solution = 1.0695231886125431, Fitness = 1.1830545790804017\n",
      "Generation 77: Best Solution = 1.182497537083186, Fitness = 0.8657870965297692\n",
      "Generation 78: Best Solution = 1.616104254594131, Fitness = 0.6683102768750571\n",
      "Generation 79: Best Solution = 1.793448438755301, Fitness = 0.14737594334072757\n",
      "Generation 80: Best Solution = 1.9264161812664935, Fitness = 0.04266354745262246\n",
      "Generation 81: Best Solution = 2.3238967063235547, Fitness = 0.005414578379405732\n",
      "Generation 82: Best Solution = 2.7302101796385756, Fitness = 0.10490907636724689\n",
      "Generation 83: Best Solution = 2.7509510852275, Fitness = 0.5332069064478011\n",
      "Generation 84: Best Solution = 2.745795723299318, Fitness = 0.5639275324043593\n",
      "Generation 85: Best Solution = 2.9511090480677664, Fitness = 0.556211260891553\n",
      "Generation 86: Best Solution = 2.4185742070890934, Fitness = 0.6672307876423336\n",
      "Generation 87: Best Solution = 2.6272139310172533, Fitness = 0.17520436684026297\n",
      "Generation 88: Best Solution = 3.0999077316374977, Fitness = 0.3933973152621162\n",
      "Generation 89: Best Solution = 2.129895587140947, Fitness = 0.20390116543714587\n",
      "Generation 90: Best Solution = 2.152328510693972, Fitness = 0.016872863558691442\n",
      "Generation 91: Best Solution = 2.195410151142894, Fitness = 0.02320397517024375\n",
      "Generation 92: Best Solution = 2.271797540317846, Fitness = 0.03818512716968847\n",
      "Generation 93: Best Solution = 2.304603312779909, Fitness = 0.07387390292283147\n",
      "Generation 94: Best Solution = 2.156223376495453, Fitness = 0.00315490079238101\n",
      "Generation 95: Best Solution = 1.8157074435111573, Fitness = 0.024405743363639765\n",
      "Generation 96: Best Solution = 2.1631824541786497, Fitness = 0.03396374637719335\n",
      "Generation 97: Best Solution = 2.0991259693031603, Fitness = 0.02662851335176697\n",
      "Generation 98: Best Solution = 2.5652217929814096, Fitness = 0.009825957790290829\n",
      "Generation 99: Best Solution = 2.0887543822284647, Fitness = 0.09979566877601931\n",
      "Generation 100: Best Solution = 1.92702438350977, Fitness = 0.007877340364756513\n",
      "Best Solution: 1.92702438350977\n"
     ]
    }
   ],
   "source": [
    "# Run the Clonal Selection Algorithm\n",
    "best_solution = clonal_selection_algorithm(pop_size, lower_bound, upper_bound, generations, mutation_rate, num_selected)\n",
    "print(f\"Best Solution: {best_solution}\")"
   ]
  },
  {
   "cell_type": "code",
   "execution_count": null,
   "id": "fed3b5f3-51df-41f3-9a95-5ac98da384cc",
   "metadata": {},
   "outputs": [],
   "source": []
  },
  {
   "cell_type": "code",
   "execution_count": null,
   "id": "eeaab8dc-571c-4c03-b9c8-e8a074878a32",
   "metadata": {},
   "outputs": [],
   "source": []
  },
  {
   "cell_type": "code",
   "execution_count": null,
   "id": "a87606e0-1ce4-4ed4-82fa-c0f6eaac392e",
   "metadata": {},
   "outputs": [],
   "source": []
  }
 ],
 "metadata": {
  "kernelspec": {
   "display_name": "Python 3 (ipykernel)",
   "language": "python",
   "name": "python3"
  },
  "language_info": {
   "codemirror_mode": {
    "name": "ipython",
    "version": 3
   },
   "file_extension": ".py",
   "mimetype": "text/x-python",
   "name": "python",
   "nbconvert_exporter": "python",
   "pygments_lexer": "ipython3",
   "version": "3.12.0"
  }
 },
 "nbformat": 4,
 "nbformat_minor": 5
}
